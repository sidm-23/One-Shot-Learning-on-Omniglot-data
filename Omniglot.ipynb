{
  "nbformat": 4,
  "nbformat_minor": 0,
  "metadata": {
    "kernelspec": {
      "name": "python3",
      "display_name": "Python 3"
    },
    "language_info": {
      "codemirror_mode": {
        "name": "ipython",
        "version": 3
      },
      "file_extension": ".py",
      "mimetype": "text/x-python",
      "name": "python",
      "nbconvert_exporter": "python",
      "pygments_lexer": "ipython3",
      "version": "3.6.9"
    },
    "colab": {
      "name": "Omniglot.ipynb",
      "provenance": [],
      "toc_visible": true,
      "include_colab_link": true
    },
    "accelerator": "GPU"
  },
  "cells": [
    {
      "cell_type": "markdown",
      "metadata": {
        "id": "view-in-github",
        "colab_type": "text"
      },
      "source": [
        "<a href=\"https://colab.research.google.com/github/sidm-23/One-Shot-Learning-on-Omniglot-data/blob/master/Omniglot.ipynb\" target=\"_parent\"><img src=\"https://colab.research.google.com/assets/colab-badge.svg\" alt=\"Open In Colab\"/></a>"
      ]
    },
    {
      "cell_type": "code",
      "metadata": {
        "id": "-gcI6z3TXuE9",
        "colab_type": "code",
        "colab": {}
      },
      "source": [
        "#Importing all the required  modules\n",
        "import cv2\n",
        "import numpy as np\n",
        "import os\n",
        "from matplotlib import pyplot as plt\n",
        "import pandas as pd\n",
        "from sklearn.utils import shuffle\n",
        "import tensorflow as tf\n",
        "from keras.models import Sequential\n",
        "from keras.optimizers import Adam\n",
        "from keras.layers import Conv2D, ZeroPadding2D, Activation, Input, concatenate\n",
        "from keras.models import Model\n",
        "from keras.layers.normalization import BatchNormalization\n",
        "from keras.layers.pooling import MaxPooling2D, AveragePooling2D\n",
        "from keras.layers.merge import Concatenate\n",
        "from keras.layers.core import Lambda, Flatten, Dense\n",
        "from keras.initializers import glorot_uniform\n",
        "from keras.regularizers import l2\n",
        "from keras import backend as K"
      ],
      "execution_count": 0,
      "outputs": []
    },
    {
      "cell_type": "code",
      "metadata": {
        "id": "v6YLDJJfXuFC",
        "colab_type": "code",
        "colab": {}
      },
      "source": [
        "def get_image_data(folder):\n",
        "    \n",
        "    \"\"\"\n",
        "    Get Training and evaluaation data for images\n",
        "    It return the data in a DataFrame with multiple index\n",
        "    \"\"\"\n",
        "    \n",
        "    lang_list=[]#list of of languages\n",
        "    X={}\n",
        "    Y={}\n",
        "    for languages in os.listdir(folder):\n",
        "        if languages.startswith('.'):\n",
        "            continue#ignore all hidden files\n",
        "        else:\n",
        "            images={}\n",
        "            lang_list.append(languages)\n",
        "            chars=[]\n",
        "            for alphabets in os.listdir(folder+languages):\n",
        "                im=[]\n",
        "                chars.append(alphabets)\n",
        "                for character in os.listdir(folder+languages+\"/\"+alphabets):\n",
        "                    if(character.startswith('.')):\n",
        "                        continue\n",
        "                    else:\n",
        "                        im.append(cv2.imread(folder+languages+\"/\"+alphabets+\"/\"+character))#append image data\n",
        "                images[alphabets]=im#for each character\n",
        "                Y[languages]=chars#for each language type\n",
        "#             print(languages)\n",
        "            X[languages]=images\n",
        "            \n",
        "    #After getting all data return the data in Serires and a Dataframe to easily access the data\n",
        "    y=pd.Series(Y)\n",
        "    x=pd.DataFrame.from_dict({(i,j): X[i][j] \n",
        "                               for i in X.keys() \n",
        "                               for j in X[i].keys()},orient='index')\n",
        "    \n",
        "    return x,y,lang_list"
      ],
      "execution_count": 0,
      "outputs": []
    },
    {
      "cell_type": "code",
      "metadata": {
        "id": "fdTSXhajXuFF",
        "colab_type": "code",
        "outputId": "d40f6cee-24e3-412f-806f-b87bccff999d",
        "colab": {
          "base_uri": "https://localhost:8080/",
          "height": 51
        }
      },
      "source": [
        "#testing module\n",
        "print(\"Getting Trainind data\")\n",
        "x_train,y_train,languages=get_image_data('Fellowship/images_background/')\n",
        "print('Getting Evaluation data')\n",
        "x_val,y_val,languages_val=get_image_data('Fellowship/images_evaluation/')"
      ],
      "execution_count": 116,
      "outputs": [
        {
          "output_type": "stream",
          "text": [
            "Getting Trainind data\n",
            "Getting Evaluation data\n"
          ],
          "name": "stdout"
        }
      ]
    },
    {
      "cell_type": "code",
      "metadata": {
        "id": "jdt7CWTYXuFI",
        "colab_type": "code",
        "colab": {}
      },
      "source": [
        "def siamese_net():\n",
        "    \n",
        "    \"\"\"\n",
        "    Define the architecture of the model which is convolution neraul network with 64 10x10 filters,\n",
        "    relu -> max pool -> convolution with 128 7x7 filters, relu -> max pool -> convolution with 128 4x4 filters,\n",
        "    relu -> max pool -> convolution with 256 4x4 filters.\n",
        "    \"\"\"\n",
        "    \n",
        "    def initialize_weights(shape, dtype=None ,name=None):\n",
        "        \"\"\"\n",
        "        The paper, http://www.cs.utoronto.ca/~gkoch/files/msc-thesis.pdf\n",
        "        suggests to initialize CNN layer weights with mean as 0.0 and standard deviation of 0.01\n",
        "        \"\"\"\n",
        "        return np.random.normal(loc = 0.0, scale = 1e-2, size = shape)\n",
        "\n",
        "    def initialize_bias(shape, dtype=None, name=None):\n",
        "        \"\"\"\n",
        "        The paper, http://www.cs.utoronto.ca/~gkoch/files/msc-thesis.pdf\n",
        "        suggests to initialize CNN layer bias with mean as 0.5 and standard deviation of 0.01\n",
        "        \"\"\"\n",
        "        return np.random.normal(loc = 0.5, scale = 1e-2, size = shape)\n",
        "\n",
        "    #Define Imput shape \n",
        "    input_shape=(105,105,3)\n",
        "    left_input=Input(input_shape)\n",
        "    right_input=Input(input_shape)\n",
        "\n",
        "    \"\"\"\n",
        "    Creating a 4 layer model \n",
        "    \"\"\"\n",
        "    model=Sequential()\n",
        "    model.add(Conv2D(filters=64,kernel_size=(10,10),activation='relu',\n",
        "                 input_shape=input_shape,kernel_initializer=initialize_weights,kernel_regularizer=l2(2e-4)))\n",
        "    model.add(MaxPooling2D())\n",
        "\n",
        "    model.add(Conv2D(128,(7,7),activation='relu',kernel_initializer=initialize_weights,\n",
        "                 bias_initializer=initialize_bias,kernel_regularizer=l2(2e-4)))\n",
        "    model.add(MaxPooling2D())\n",
        "\n",
        "    model.add(Conv2D(128,(4,4),activation='relu',kernel_initializer=initialize_weights,\n",
        "                 bias_initializer=initialize_bias,kernel_regularizer=l2(2e-4)))\n",
        "    model.add(MaxPooling2D())\n",
        "\n",
        "    model.add(Conv2D(256,(4,4),activation='relu',kernel_initializer=initialize_weights,\n",
        "                 bias_initializer=initialize_bias,kernel_regularizer=l2(2e-4)))\n",
        "    model.add(Flatten())\n",
        "\n",
        "    model.add(Dense(4096,activation='sigmoid',kernel_regularizer=l2(1e-3),kernel_initializer=initialize_weights,\n",
        "         bias_initializer=initialize_bias))\n",
        "\n",
        "    encode_l=model(left_input)\n",
        "    encode_r=model(right_input)\n",
        "\n",
        "    l1_layer=Lambda(lambda tensors:K.abs(tensors[0]-tensors[1]))\n",
        "    l1_distance=l1_layer([encode_l,encode_r])\n",
        "\n",
        "    # Add a dense layer with a sigmoid unit to generate the similarity score\n",
        "    prediction = Dense(1,activation='sigmoid',bias_initializer=initialize_bias)(l1_distance)\n",
        "    \n",
        "    # Connect the inputs with the outputs\n",
        "    siamese_net = Model(inputs=[left_input,right_input],outputs=prediction)\n",
        "\n",
        "    print(siamese_net.summary())\n",
        "    \n",
        "    return siamese_net"
      ],
      "execution_count": 0,
      "outputs": []
    },
    {
      "cell_type": "code",
      "metadata": {
        "id": "S-RJVM_RXuFL",
        "colab_type": "code",
        "outputId": "22e4cd39-1074-4c9b-ffd0-ae7c114c43dd",
        "colab": {
          "base_uri": "https://localhost:8080/",
          "height": 374
        }
      },
      "source": [
        "#Create and complie model\n",
        "model=siamese_net()\n",
        "optimizer = Adam(lr = 0.00006)\n",
        "model.compile(loss=\"binary_crossentropy\",optimizer=optimizer)"
      ],
      "execution_count": 118,
      "outputs": [
        {
          "output_type": "stream",
          "text": [
            "Model: \"model_5\"\n",
            "__________________________________________________________________________________________________\n",
            "Layer (type)                    Output Shape         Param #     Connected to                     \n",
            "==================================================================================================\n",
            "input_9 (InputLayer)            (None, 105, 105, 3)  0                                            \n",
            "__________________________________________________________________________________________________\n",
            "input_10 (InputLayer)           (None, 105, 105, 3)  0                                            \n",
            "__________________________________________________________________________________________________\n",
            "sequential_5 (Sequential)       (None, 4096)         38960448    input_9[0][0]                    \n",
            "                                                                 input_10[0][0]                   \n",
            "__________________________________________________________________________________________________\n",
            "lambda_5 (Lambda)               (None, 4096)         0           sequential_5[1][0]               \n",
            "                                                                 sequential_5[2][0]               \n",
            "__________________________________________________________________________________________________\n",
            "dense_10 (Dense)                (None, 1)            4097        lambda_5[0][0]                   \n",
            "==================================================================================================\n",
            "Total params: 38,964,545\n",
            "Trainable params: 38,964,545\n",
            "Non-trainable params: 0\n",
            "__________________________________________________________________________________________________\n",
            "None\n"
          ],
          "name": "stdout"
        }
      ]
    },
    {
      "cell_type": "code",
      "metadata": {
        "id": "dyTld0fZ8ugr",
        "colab_type": "code",
        "colab": {}
      },
      "source": [
        "# Hyper parameters\n",
        "evaluate_every =200 # interval for evaluating on one-shot tasks\n",
        "batch_size = 32\n",
        "n_iter = 2000 # No. of training iterations"
      ],
      "execution_count": 0,
      "outputs": []
    },
    {
      "cell_type": "code",
      "metadata": {
        "id": "HWDGIV1kXuFX",
        "colab_type": "code",
        "colab": {}
      },
      "source": [
        "def get_batch(x):\n",
        "  \"\"\"\n",
        "  Create batch to train the model\n",
        "  \"\"\"\n",
        "  n_classes, n_examples= x.shape\n",
        "  w, h =105,105\n",
        "  categories=np.random.choice(n_classes,size=(batch_size,),replace=False)\n",
        "\n",
        "  # initialize 2 empty arrays for the input image batch\n",
        "  pairs=[np.zeros((batch_size, h, w,3)) for i in range(2)]\n",
        "    \n",
        "  # initialize vector for the targets\n",
        "  targets=np.zeros((batch_size,))\n",
        "\n",
        "  targets[batch_size//2:]=1\n",
        "  for i in range(batch_size):\n",
        "      category=categories[i]\n",
        "      idx_1=np.random.randint(0,n_examples)\n",
        "      pairs[0][i,:,:,:] = x.iat[category, idx_1]\n",
        "      idx_2 = np.random.randint(0, n_examples)\n",
        "      if i >= batch_size // 2:\n",
        "              category_2 = category  \n",
        "      else: \n",
        "          # add a random number to the category modulo n classes to ensure 2nd image has a different category\n",
        "          category_2 = (category + np.random.randint(1,n_classes)) % n_classes\n",
        "      pairs[1][i,:,:,:] = x.iat[category_2,idx_2]\n",
        "    \n",
        "  return pairs,targets\n",
        "    "
      ],
      "execution_count": 0,
      "outputs": []
    },
    {
      "cell_type": "code",
      "metadata": {
        "id": "ErZrC8QfXuFZ",
        "colab_type": "code",
        "outputId": "04d209c4-1cdb-4e77-f990-89beb6023433",
        "colab": {
          "base_uri": "https://localhost:8080/",
          "height": 995
        }
      },
      "source": [
        "print(\"Starting training process!\")\n",
        "l=[]\n",
        "for i in range(1, n_iter+1):\n",
        "    inputs,targets = get_batch(x_train)\n",
        "    loss = model.train_on_batch(inputs,targets)\n",
        "    l.append(loss)\n",
        "    if i % evaluate_every == 0:\n",
        "        print(\"\\n ------------- \\n\")\n",
        "        print(\"Train Loss: {0}\".format(loss))\n",
        "plt.title('Training Loss')\n",
        "plt.plot(l)"
      ],
      "execution_count": 125,
      "outputs": [
        {
          "output_type": "stream",
          "text": [
            "Starting training process!\n",
            "\n",
            " ------------- \n",
            "\n",
            "Train Loss: 2.288740873336792\n",
            "\n",
            " ------------- \n",
            "\n",
            "Train Loss: 1.7072113752365112\n",
            "\n",
            " ------------- \n",
            "\n",
            "Train Loss: 1.3755910396575928\n",
            "\n",
            " ------------- \n",
            "\n",
            "Train Loss: 1.1454741954803467\n",
            "\n",
            " ------------- \n",
            "\n",
            "Train Loss: 1.0046484470367432\n",
            "\n",
            " ------------- \n",
            "\n",
            "Train Loss: 0.9348121881484985\n",
            "\n",
            " ------------- \n",
            "\n",
            "Train Loss: 0.909724771976471\n",
            "\n",
            " ------------- \n",
            "\n",
            "Train Loss: 0.699389636516571\n",
            "\n",
            " ------------- \n",
            "\n",
            "Train Loss: 0.7665221691131592\n",
            "\n",
            " ------------- \n",
            "\n",
            "Train Loss: 0.7366732358932495\n"
          ],
          "name": "stdout"
        },
        {
          "output_type": "execute_result",
          "data": {
            "text/plain": [
              "[<matplotlib.lines.Line2D at 0x7f33e2f45588>]"
            ]
          },
          "metadata": {
            "tags": []
          },
          "execution_count": 125
        },
        {
          "output_type": "display_data",
          "data": {
            "image/png": "[encoded data removed]",
            "text/plain": [
              "<Figure size 432x288 with 1 Axes>"
            ]
          },
          "metadata": {
            "tags": []
          }
        }
      ]
    },
    {
      "cell_type": "code",
      "metadata": {
        "id": "Ou5_tIjMXuFc",
        "colab_type": "code",
        "colab": {}
      },
      "source": [
        "def make_test_batch(N):\n",
        "    \"\"\"\n",
        "    Create test batch\n",
        "    \"\"\"\n",
        "    n_classes, n_examples= x_val.shape\n",
        "    w, h =105,105\n",
        "    categories=languages_val\n",
        "\n",
        "\n",
        "    indices=m=np.random.randint(0,n_examples,size=(N,))#choose random images to be selected\n",
        "    categories=np.random.randint(n_classes,size=(N,))\n",
        "    test_image=np.zeros((1,w,h,3))#placehoder for test image\n",
        "\n",
        "    targets=np.zeros((N,))\n",
        "    support_set=[]\n",
        "    targets[0] = 1\n",
        "    true_category = categories[0]\n",
        "    ex1, ex2 = np.random.choice(n_examples,replace=False,size=(2,))\n",
        "    test_image[0] = np.asarray(x_val.iat[true_category,ex1])\n",
        "    for c,i in zip(categories,indices):\n",
        "        support_set.append(x_val.iat[c,i])\n",
        "    support_set[0] = x_val.iat[true_category,ex2]\n",
        "    support_set=np.array(support_set)\n",
        "    targets,support_set = shuffle(targets,support_set)\n",
        "    pairs = [test_image,support_set]\n",
        "    return pairs,targets"
      ],
      "execution_count": 0,
      "outputs": []
    },
    {
      "cell_type": "code",
      "metadata": {
        "id": "JNL3axTTXuFe",
        "colab_type": "code",
        "colab": {}
      },
      "source": [
        "def testing(k,N):\n",
        "  \"\"\"\n",
        "  Used to test model for k times on N-batch size data\n",
        "  \"\"\"\n",
        "  n_correct=0\n",
        "  for i in range(k):\n",
        "      inputs_t, targets_t = make_test_batch(9)\n",
        "      # ImageLoader(inputs_t)\n",
        "      probs = model.predict_on_batch(inputs_t)\n",
        "      if np.argmax(probs) == np.argmax(targets_t):\n",
        "          n_correct+=1\n",
        "  percent_correct = (100.0 * n_correct / k)\n",
        "  print(\"Got an average of \"+str(percent_correct)+\"% for \"+str(N)+\" way one-shot learning accuracy \\n\")\n",
        "  # return percent_correct\n"
      ],
      "execution_count": 0,
      "outputs": []
    },
    {
      "cell_type": "code",
      "metadata": {
        "id": "eiPCNzDKkSSs",
        "colab_type": "code",
        "colab": {}
      },
      "source": [
        "def ImageLoader(imlist):\n",
        "  plt.subplots()\n",
        "  plt.title(\"Test Image\")\n",
        "  plt.imshow(imlist[0][0])\n",
        "  print('Subset Images')\n",
        "  new_img=np.zeros((480,480))\n",
        "  offset=2\n",
        "  for img in imlist[1]:\n",
        "      # new_img=+img\n",
        "      # new_image+=offset\n",
        "      plt.subplots()\n",
        "      plt.imshow(img)\n",
        "      # plt.imshow(new_image)"
      ],
      "execution_count": 0,
      "outputs": []
    },
    {
      "cell_type": "code",
      "metadata": {
        "id": "4WHMoPfhznx4",
        "colab_type": "code",
        "colab": {
          "base_uri": "https://localhost:8080/",
          "height": 153
        },
        "outputId": "beb73c25-2922-42fa-a7dd-4c32dd5d08cd"
      },
      "source": [
        "N_way=[9,16,25,32]\n",
        "for i in N_way:\n",
        "  testing(32,i)"
      ],
      "execution_count": 135,
      "outputs": [
        {
          "output_type": "stream",
          "text": [
            "Got an average of 75.0% for 9 way one-shot learning accuracy \n",
            "\n",
            "Got an average of 71.875% for 16 way one-shot learning accuracy \n",
            "\n",
            "Got an average of 75.0% for 25 way one-shot learning accuracy \n",
            "\n",
            "Got an average of 78.125% for 32 way one-shot learning accuracy \n",
            "\n"
          ],
          "name": "stdout"
        }
      ]
    },
    {
      "cell_type": "code",
      "metadata": {
        "id": "8x7aX6FVXuFN",
        "colab_type": "code",
        "colab": {}
      },
      "source": [
        "def get_stroke(fp):\n",
        "    with open(fp,'r') as f:\n",
        "        stroke_data=f.readlines()\n",
        "        stroke_data=[l.strip() for l in stroke_data]\n",
        "        motor=[]\n",
        "        for line in stroke_data:\n",
        "            if line==\"START\":\n",
        "                stk=[]\n",
        "            elif line==\"BREAK\":\n",
        "                stk = np.array(stk)\n",
        "                motor.append(stk) # add to list of strokes\n",
        "                stk = [] \n",
        "            else:\n",
        "                arr = np.fromstring(line,dtype=float,sep=',')\n",
        "                stk.append(arr)\n",
        "    return motor"
      ],
      "execution_count": 0,
      "outputs": []
    },
    {
      "cell_type": "code",
      "metadata": {
        "id": "CjLuFzPqXuFQ",
        "colab_type": "code",
        "colab": {}
      },
      "source": [
        "def draw_stroke(motor):\n",
        "    drawing=[d[:,0:2]for d in motor]\n",
        "    for i in drawing:\n",
        "        plt.subplots()\n",
        "        plt.plot(i[:,0],i[:,1])"
      ],
      "execution_count": 0,
      "outputs": []
    },
    {
      "cell_type": "code",
      "metadata": {
        "id": "HdI7A7gOXuFS",
        "colab_type": "code",
        "colab": {}
      },
      "source": [
        "def get_stroke_data(folder):\n",
        "    \"\"\"\n",
        "    Function to get stroke data and returns a dataframe in accordance to language and character \n",
        "    \"\"\"\n",
        "    lang_list=[]\n",
        "    SX={}\n",
        "    for languages in os.listdir(folder):\n",
        "        if languages.startswith('.'):\n",
        "            continue\n",
        "        else:\n",
        "            strokes={}\n",
        "            lang_list.append(languages)\n",
        "            for alphabets in os.listdir(folder+languages):\n",
        "                if alphabets.startswith('.'):\n",
        "                    continue\n",
        "                else:\n",
        "                    stk=[]\n",
        "                    for character in os.listdir(folder+languages+\"/\"+alphabets):\n",
        "                        if(character.startswith('.')):\n",
        "                            continue\n",
        "                        else:\n",
        "                            stk_data=get_stroke(folder+languages+\"/\"+alphabets+\"/\"+character)\n",
        "                            stk.append(stk_data)\n",
        "                    strokes[alphabets]=stk\n",
        "            \n",
        "        print(languages)\n",
        "        SX[languages]=strokes\n",
        "    \n",
        "    sx=pd.DataFrame.from_dict({(i,j): SX[i][j] \n",
        "                           for i in SX.keys() \n",
        "                           for j in SX[i].keys()},orient='index')\n",
        "    return sx"
      ],
      "execution_count": 0,
      "outputs": []
    },
    {
      "cell_type": "code",
      "metadata": {
        "id": "vb58BdckXuFV",
        "colab_type": "code",
        "colab": {}
      },
      "source": [
        "stroke_train=get_stroke_data('Fellowship/strokes_background/')\n",
        "stroke_test=get_stroke_data('Fellowship/strokes_evaluation/')"
      ],
      "execution_count": 0,
      "outputs": []
    },
    {
      "cell_type": "code",
      "metadata": {
        "id": "NEYreoK_U-Su",
        "colab_type": "code",
        "colab": {}
      },
      "source": [
        "from google.colab import drive\n",
        "drive.mount('/content/drive')"
      ],
      "execution_count": 0,
      "outputs": []
    },
    {
      "cell_type": "code",
      "metadata": {
        "id": "bzcrN6Xq3pb8",
        "colab_type": "code",
        "colab": {}
      },
      "source": [
        "!unzip -uq \"/content/drive/My Drive/Colab Notebooks/Fellowship\""
      ],
      "execution_count": 0,
      "outputs": []
    }
  ]
}