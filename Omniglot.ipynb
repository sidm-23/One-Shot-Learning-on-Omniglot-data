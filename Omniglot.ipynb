{
  "nbformat": 4,
  "nbformat_minor": 0,
  "metadata": {
    "kernelspec": {
      "name": "python3",
      "display_name": "Python 3"
    },
    "language_info": {
      "codemirror_mode": {
        "name": "ipython",
        "version": 3
      },
      "file_extension": ".py",
      "mimetype": "text/x-python",
      "name": "python",
      "nbconvert_exporter": "python",
      "pygments_lexer": "ipython3",
      "version": "3.6.9"
    },
    "colab": {
      "name": "Omniglot.ipynb",
      "provenance": [],
      "toc_visible": true,
      "include_colab_link": true
    },
    "accelerator": "GPU"
  },
  "cells": [
    {
      "cell_type": "markdown",
      "metadata": {
        "id": "view-in-github",
        "colab_type": "text"
      },
      "source": [
        "<a href=\"https://colab.research.google.com/github/sidm-23/One-Shot-Learning-on-Omniglot-data/blob/master/Omniglot.ipynb\" target=\"_parent\"><img src=\"https://colab.research.google.com/assets/colab-badge.svg\" alt=\"Open In Colab\"/></a>"
      ]
    },
    {
      "cell_type": "code",
      "metadata": {
        "id": "-gcI6z3TXuE9",
        "colab_type": "code",
        "colab": {}
      },
      "source": [
        "#Importing all the required  modules\n",
        "%tensorflow_version 1.x\n",
        "import cv2\n",
        "import numpy as np\n",
        "import os\n",
        "from matplotlib import pyplot as plt\n",
        "import pandas as pd\n",
        "from sklearn.utils import shuffle\n",
        "import tensorflow as tf\n",
        "from keras.models import Sequential\n",
        "from keras.optimizers import Adam\n",
        "from keras.layers import Conv2D, ZeroPadding2D, Activation, Input, concatenate\n",
        "from keras.models import Model\n",
        "from keras.layers.normalization import BatchNormalization\n",
        "from keras.layers.pooling import MaxPooling2D, AveragePooling2D\n",
        "from keras.layers.merge import Concatenate\n",
        "from keras.layers.core import Lambda, Flatten, Dense\n",
        "from keras.initializers import glorot_uniform\n",
        "from keras.regularizers import l2\n",
        "from keras import backend as K"
      ],
      "execution_count": 0,
      "outputs": []
    },
    {
      "cell_type": "markdown",
      "metadata": {
        "id": "t2_SnaQWWJsD",
        "colab_type": "text"
      },
      "source": [
        "The [Omniglot dataset](https://github.com/brendenlake/omniglot) is a collection of 1623 hand-drawn characters from 50 alphabets. For every character there are just 20 examples, each drawn by a different person at resolution 105x105. Each image is paired with stroke data, a sequence of [x,y,t] coordinates with time (t) in milliseconds. This data is split as 30 alphabets used for training and the other 20 used for validation of the model.\n"
      ]
    },
    {
      "cell_type": "markdown",
      "metadata": {
        "id": "r6H66ZoAgxqY",
        "colab_type": "text"
      },
      "source": [
        "**Why use One-Shot Learning**     \n",
        "In conventional image processing, an image is put through a CNN(Convolution Neural Network) to extract features from which an object/edge is detected or classified, but this is very computationally intense and requires a very large training set to alleviate all bias. Another issue is that when a new set of training data is added the model has to be re-trained.\n",
        "So one-shot learning proposes to extract features from a small set of training data and make a faster prediction based on similarity.  \n",
        "*Ex* \n",
        "Face unlock in phones take only multiple images of and feature for your face and store it on device but when a new face is added it does not have re-train the entire model, it extracts the features from each image and compares for similarity thus reducing the time it takes to unlock while still being reliable."
      ]
    },
    {
      "cell_type": "markdown",
      "metadata": {
        "id": "dTH6-YWP6zh9",
        "colab_type": "text"
      },
      "source": [
        "**Data Preprocessing**"
      ]
    },
    {
      "cell_type": "markdown",
      "metadata": {
        "id": "hFwMKcX77iB8",
        "colab_type": "text"
      },
      "source": [
        "**Raw data** \n",
        ">image_background  \n",
        ">>Gujarati\n",
        ">>>Character01\n",
        ">>>>20 images\n",
        "\n",
        "![Raw Dataset](https://raw.githubusercontent.com/brendenlake/omniglot/master/omniglot_grid.jpg)\n",
        "\n",
        "\n",
        "\n",
        "\n",
        "\n",
        "\n",
        "\n",
        "\n",
        "\n",
        "\n",
        "\n",
        "\n",
        "\n",
        "\n",
        "\n",
        "\n",
        "\n"
      ]
    },
    {
      "cell_type": "code",
      "metadata": {
        "id": "v6YLDJJfXuFC",
        "colab_type": "code",
        "colab": {}
      },
      "source": [
        "def get_image_data(folder):\n",
        "\n",
        "    \"\"\"\n",
        "    Get Training and evaluation data for images\n",
        "    It returns the data in a DataFrame with multiple indexes\n",
        "    \"\"\"\n",
        "    \n",
        "    lang_list=[]#list of of languages\n",
        "    X={}\n",
        "    Y={}\n",
        "    for languages in os.listdir(folder):\n",
        "        if languages.startswith('.'):\n",
        "            continue#ignore all hidden files\n",
        "        else:\n",
        "            images={}\n",
        "            lang_list.append(languages)#for each language\n",
        "            chars=[]\n",
        "            for alphabets in os.listdir(folder+languages):\n",
        "                im=[]\n",
        "                chars.append(alphabets)#for each character\n",
        "                for character in os.listdir(folder+languages+\"/\"+alphabets):\n",
        "                    if(character.startswith('.')):\n",
        "                        continue\n",
        "                    else:\n",
        "                        im.append(cv2.imread(folder+languages+\"/\"+alphabets+\"/\"+character))#append image data\n",
        "                images[alphabets]=im#for each character\n",
        "                Y[languages]=chars#for each language type\n",
        "#             print(languages)\n",
        "            X[languages]=images\n",
        "            \n",
        "    #After getting all data return the data in Serires and a Dataframe to easily access the data\n",
        "    y=pd.Series(Y)\n",
        "    x=pd.DataFrame.from_dict({(i,j): X[i][j] \n",
        "                               for i in X.keys() \n",
        "                               for j in X[i].keys()},orient='index')\n",
        "    \n",
        "    return x,y,lang_list"
      ],
      "execution_count": 0,
      "outputs": []
    },
    {
      "cell_type": "code",
      "metadata": {
        "id": "fdTSXhajXuFF",
        "colab_type": "code",
        "outputId": "6722c7fe-341c-440b-e147-376082db8ec2",
        "colab": {
          "base_uri": "https://localhost:8080/",
          "height": 51
        }
      },
      "source": [
        "#testing module\n",
        "print(\"Getting Trainind data\")\n",
        "x_train,y_train,languages=get_image_data('Fellowship/images_background/')\n",
        "print('Getting Evaluation data')\n",
        "x_val,y_val,languages_val=get_image_data('Fellowship/images_evaluation/')"
      ],
      "execution_count": 17,
      "outputs": [
        {
          "output_type": "stream",
          "text": [
            "Getting Trainind data\n",
            "Getting Evaluation data\n"
          ],
          "name": "stdout"
        }
      ]
    },
    {
      "cell_type": "markdown",
      "metadata": {
        "id": "V-TD9ZZr-_O-",
        "colab_type": "text"
      },
      "source": [
        "**After reading data**  \n",
        "The data is now stored a multi-indexed DataFrame, with each cell storing the image array to the corresponding language and character. This makes accessing the image data very easy and fast as pandas DataFrame structure is very well optimized."
      ]
    },
    {
      "cell_type": "code",
      "metadata": {
        "id": "w3JcAVoT-gpW",
        "colab_type": "code",
        "colab": {
          "base_uri": "https://localhost:8080/",
          "height": 1000
        },
        "outputId": "2978a546-22ce-463c-edb3-40c4d97fe281"
      },
      "source": [
        "x_val"
      ],
      "execution_count": 7,
      "outputs": [
        {
          "output_type": "execute_result",
          "data": {
            "text/html": [
              "<div>\n",
              "<style scoped>\n",
              "    .dataframe tbody tr th:only-of-type {\n",
              "        vertical-align: middle;\n",
              "    }\n",
              "\n",
              "    .dataframe tbody tr th {\n",
              "        vertical-align: top;\n",
              "    }\n",
              "\n",
              "    .dataframe thead th {\n",
              "        text-align: right;\n",
              "    }\n",
              "</style>\n",
              "<table border=\"1\" class=\"dataframe\">\n",
              "  <thead>\n",
              "    <tr style=\"text-align: right;\">\n",
              "      <th></th>\n",
              "      <th>0</th>\n",
              "      <th>1</th>\n",
              "      <th>2</th>\n",
              "      <th>3</th>\n",
              "      <th>4</th>\n",
              "      <th>5</th>\n",
              "      <th>6</th>\n",
              "      <th>7</th>\n",
              "      <th>8</th>\n",
              "      <th>9</th>\n",
              "      <th>10</th>\n",
              "      <th>11</th>\n",
              "      <th>12</th>\n",
              "      <th>13</th>\n",
              "      <th>14</th>\n",
              "      <th>15</th>\n",
              "      <th>16</th>\n",
              "      <th>17</th>\n",
              "      <th>18</th>\n",
              "      <th>19</th>\n",
              "    </tr>\n",
              "  </thead>\n",
              "  <tbody>\n",
              "    <tr>\n",
              "      <th>(Kannada, character38)</th>\n",
              "      <td>[[[255, 255, 255], [255, 255, 255], [255, 255,...</td>\n",
              "      <td>[[[255, 255, 255], [255, 255, 255], [255, 255,...</td>\n",
              "      <td>[[[255, 255, 255], [255, 255, 255], [255, 255,...</td>\n",
              "      <td>[[[255, 255, 255], [255, 255, 255], [255, 255,...</td>\n",
              "      <td>[[[255, 255, 255], [255, 255, 255], [255, 255,...</td>\n",
              "      <td>[[[255, 255, 255], [255, 255, 255], [255, 255,...</td>\n",
              "      <td>[[[255, 255, 255], [255, 255, 255], [255, 255,...</td>\n",
              "      <td>[[[255, 255, 255], [255, 255, 255], [255, 255,...</td>\n",
              "      <td>[[[255, 255, 255], [255, 255, 255], [255, 255,...</td>\n",
              "      <td>[[[255, 255, 255], [255, 255, 255], [255, 255,...</td>\n",
              "      <td>[[[255, 255, 255], [255, 255, 255], [255, 255,...</td>\n",
              "      <td>[[[255, 255, 255], [255, 255, 255], [255, 255,...</td>\n",
              "      <td>[[[255, 255, 255], [255, 255, 255], [255, 255,...</td>\n",
              "      <td>[[[255, 255, 255], [255, 255, 255], [255, 255,...</td>\n",
              "      <td>[[[255, 255, 255], [255, 255, 255], [255, 255,...</td>\n",
              "      <td>[[[255, 255, 255], [255, 255, 255], [255, 255,...</td>\n",
              "      <td>[[[255, 255, 255], [255, 255, 255], [255, 255,...</td>\n",
              "      <td>[[[255, 255, 255], [255, 255, 255], [255, 255,...</td>\n",
              "      <td>[[[255, 255, 255], [255, 255, 255], [255, 255,...</td>\n",
              "      <td>[[[255, 255, 255], [255, 255, 255], [255, 255,...</td>\n",
              "    </tr>\n",
              "    <tr>\n",
              "      <th>(Kannada, character35)</th>\n",
              "      <td>[[[255, 255, 255], [255, 255, 255], [255, 255,...</td>\n",
              "      <td>[[[255, 255, 255], [255, 255, 255], [255, 255,...</td>\n",
              "      <td>[[[255, 255, 255], [255, 255, 255], [255, 255,...</td>\n",
              "      <td>[[[255, 255, 255], [255, 255, 255], [255, 255,...</td>\n",
              "      <td>[[[255, 255, 255], [255, 255, 255], [255, 255,...</td>\n",
              "      <td>[[[255, 255, 255], [255, 255, 255], [255, 255,...</td>\n",
              "      <td>[[[255, 255, 255], [255, 255, 255], [255, 255,...</td>\n",
              "      <td>[[[255, 255, 255], [255, 255, 255], [255, 255,...</td>\n",
              "      <td>[[[255, 255, 255], [255, 255, 255], [255, 255,...</td>\n",
              "      <td>[[[255, 255, 255], [255, 255, 255], [255, 255,...</td>\n",
              "      <td>[[[255, 255, 255], [255, 255, 255], [255, 255,...</td>\n",
              "      <td>[[[255, 255, 255], [255, 255, 255], [255, 255,...</td>\n",
              "      <td>[[[255, 255, 255], [255, 255, 255], [255, 255,...</td>\n",
              "      <td>[[[255, 255, 255], [255, 255, 255], [255, 255,...</td>\n",
              "      <td>[[[255, 255, 255], [255, 255, 255], [255, 255,...</td>\n",
              "      <td>[[[255, 255, 255], [255, 255, 255], [255, 255,...</td>\n",
              "      <td>[[[255, 255, 255], [255, 255, 255], [255, 255,...</td>\n",
              "      <td>[[[255, 255, 255], [255, 255, 255], [255, 255,...</td>\n",
              "      <td>[[[255, 255, 255], [255, 255, 255], [255, 255,...</td>\n",
              "      <td>[[[255, 255, 255], [255, 255, 255], [255, 255,...</td>\n",
              "    </tr>\n",
              "    <tr>\n",
              "      <th>(Kannada, character16)</th>\n",
              "      <td>[[[255, 255, 255], [255, 255, 255], [255, 255,...</td>\n",
              "      <td>[[[255, 255, 255], [255, 255, 255], [255, 255,...</td>\n",
              "      <td>[[[255, 255, 255], [255, 255, 255], [255, 255,...</td>\n",
              "      <td>[[[255, 255, 255], [255, 255, 255], [255, 255,...</td>\n",
              "      <td>[[[255, 255, 255], [255, 255, 255], [255, 255,...</td>\n",
              "      <td>[[[255, 255, 255], [255, 255, 255], [255, 255,...</td>\n",
              "      <td>[[[255, 255, 255], [255, 255, 255], [255, 255,...</td>\n",
              "      <td>[[[255, 255, 255], [255, 255, 255], [255, 255,...</td>\n",
              "      <td>[[[255, 255, 255], [255, 255, 255], [255, 255,...</td>\n",
              "      <td>[[[255, 255, 255], [255, 255, 255], [255, 255,...</td>\n",
              "      <td>[[[255, 255, 255], [255, 255, 255], [255, 255,...</td>\n",
              "      <td>[[[255, 255, 255], [255, 255, 255], [255, 255,...</td>\n",
              "      <td>[[[255, 255, 255], [255, 255, 255], [255, 255,...</td>\n",
              "      <td>[[[255, 255, 255], [255, 255, 255], [255, 255,...</td>\n",
              "      <td>[[[255, 255, 255], [255, 255, 255], [255, 255,...</td>\n",
              "      <td>[[[255, 255, 255], [255, 255, 255], [255, 255,...</td>\n",
              "      <td>[[[255, 255, 255], [255, 255, 255], [255, 255,...</td>\n",
              "      <td>[[[255, 255, 255], [255, 255, 255], [255, 255,...</td>\n",
              "      <td>[[[255, 255, 255], [255, 255, 255], [255, 255,...</td>\n",
              "      <td>[[[255, 255, 255], [255, 255, 255], [255, 255,...</td>\n",
              "    </tr>\n",
              "    <tr>\n",
              "      <th>(Kannada, character03)</th>\n",
              "      <td>[[[255, 255, 255], [255, 255, 255], [255, 255,...</td>\n",
              "      <td>[[[255, 255, 255], [255, 255, 255], [255, 255,...</td>\n",
              "      <td>[[[255, 255, 255], [255, 255, 255], [255, 255,...</td>\n",
              "      <td>[[[255, 255, 255], [255, 255, 255], [255, 255,...</td>\n",
              "      <td>[[[255, 255, 255], [255, 255, 255], [255, 255,...</td>\n",
              "      <td>[[[255, 255, 255], [255, 255, 255], [255, 255,...</td>\n",
              "      <td>[[[255, 255, 255], [255, 255, 255], [255, 255,...</td>\n",
              "      <td>[[[255, 255, 255], [255, 255, 255], [255, 255,...</td>\n",
              "      <td>[[[255, 255, 255], [255, 255, 255], [255, 255,...</td>\n",
              "      <td>[[[255, 255, 255], [255, 255, 255], [255, 255,...</td>\n",
              "      <td>[[[255, 255, 255], [255, 255, 255], [255, 255,...</td>\n",
              "      <td>[[[255, 255, 255], [255, 255, 255], [255, 255,...</td>\n",
              "      <td>[[[255, 255, 255], [255, 255, 255], [255, 255,...</td>\n",
              "      <td>[[[255, 255, 255], [255, 255, 255], [255, 255,...</td>\n",
              "      <td>[[[255, 255, 255], [255, 255, 255], [255, 255,...</td>\n",
              "      <td>[[[255, 255, 255], [255, 255, 255], [255, 255,...</td>\n",
              "      <td>[[[255, 255, 255], [255, 255, 255], [255, 255,...</td>\n",
              "      <td>[[[255, 255, 255], [255, 255, 255], [255, 255,...</td>\n",
              "      <td>[[[255, 255, 255], [255, 255, 255], [255, 255,...</td>\n",
              "      <td>[[[255, 255, 255], [255, 255, 255], [255, 255,...</td>\n",
              "    </tr>\n",
              "    <tr>\n",
              "      <th>(Kannada, character22)</th>\n",
              "      <td>[[[255, 255, 255], [255, 255, 255], [255, 255,...</td>\n",
              "      <td>[[[255, 255, 255], [255, 255, 255], [255, 255,...</td>\n",
              "      <td>[[[255, 255, 255], [255, 255, 255], [255, 255,...</td>\n",
              "      <td>[[[255, 255, 255], [255, 255, 255], [255, 255,...</td>\n",
              "      <td>[[[255, 255, 255], [255, 255, 255], [255, 255,...</td>\n",
              "      <td>[[[255, 255, 255], [255, 255, 255], [255, 255,...</td>\n",
              "      <td>[[[255, 255, 255], [255, 255, 255], [255, 255,...</td>\n",
              "      <td>[[[255, 255, 255], [255, 255, 255], [255, 255,...</td>\n",
              "      <td>[[[255, 255, 255], [255, 255, 255], [255, 255,...</td>\n",
              "      <td>[[[255, 255, 255], [255, 255, 255], [255, 255,...</td>\n",
              "      <td>[[[255, 255, 255], [255, 255, 255], [255, 255,...</td>\n",
              "      <td>[[[255, 255, 255], [255, 255, 255], [255, 255,...</td>\n",
              "      <td>[[[255, 255, 255], [255, 255, 255], [255, 255,...</td>\n",
              "      <td>[[[255, 255, 255], [255, 255, 255], [255, 255,...</td>\n",
              "      <td>[[[255, 255, 255], [255, 255, 255], [255, 255,...</td>\n",
              "      <td>[[[255, 255, 255], [255, 255, 255], [255, 255,...</td>\n",
              "      <td>[[[255, 255, 255], [255, 255, 255], [255, 255,...</td>\n",
              "      <td>[[[255, 255, 255], [255, 255, 255], [255, 255,...</td>\n",
              "      <td>[[[255, 255, 255], [255, 255, 255], [255, 255,...</td>\n",
              "      <td>[[[255, 255, 255], [255, 255, 255], [255, 255,...</td>\n",
              "    </tr>\n",
              "    <tr>\n",
              "      <th>...</th>\n",
              "      <td>...</td>\n",
              "      <td>...</td>\n",
              "      <td>...</td>\n",
              "      <td>...</td>\n",
              "      <td>...</td>\n",
              "      <td>...</td>\n",
              "      <td>...</td>\n",
              "      <td>...</td>\n",
              "      <td>...</td>\n",
              "      <td>...</td>\n",
              "      <td>...</td>\n",
              "      <td>...</td>\n",
              "      <td>...</td>\n",
              "      <td>...</td>\n",
              "      <td>...</td>\n",
              "      <td>...</td>\n",
              "      <td>...</td>\n",
              "      <td>...</td>\n",
              "      <td>...</td>\n",
              "      <td>...</td>\n",
              "    </tr>\n",
              "    <tr>\n",
              "      <th>(Oriya, character20)</th>\n",
              "      <td>[[[255, 255, 255], [255, 255, 255], [255, 255,...</td>\n",
              "      <td>[[[255, 255, 255], [255, 255, 255], [255, 255,...</td>\n",
              "      <td>[[[255, 255, 255], [255, 255, 255], [255, 255,...</td>\n",
              "      <td>[[[255, 255, 255], [255, 255, 255], [255, 255,...</td>\n",
              "      <td>[[[255, 255, 255], [255, 255, 255], [255, 255,...</td>\n",
              "      <td>[[[255, 255, 255], [255, 255, 255], [255, 255,...</td>\n",
              "      <td>[[[255, 255, 255], [255, 255, 255], [255, 255,...</td>\n",
              "      <td>[[[255, 255, 255], [255, 255, 255], [255, 255,...</td>\n",
              "      <td>[[[255, 255, 255], [255, 255, 255], [255, 255,...</td>\n",
              "      <td>[[[255, 255, 255], [255, 255, 255], [255, 255,...</td>\n",
              "      <td>[[[255, 255, 255], [255, 255, 255], [255, 255,...</td>\n",
              "      <td>[[[255, 255, 255], [255, 255, 255], [255, 255,...</td>\n",
              "      <td>[[[255, 255, 255], [255, 255, 255], [255, 255,...</td>\n",
              "      <td>[[[255, 255, 255], [255, 255, 255], [255, 255,...</td>\n",
              "      <td>[[[255, 255, 255], [255, 255, 255], [255, 255,...</td>\n",
              "      <td>[[[255, 255, 255], [255, 255, 255], [255, 255,...</td>\n",
              "      <td>[[[255, 255, 255], [255, 255, 255], [255, 255,...</td>\n",
              "      <td>[[[255, 255, 255], [255, 255, 255], [255, 255,...</td>\n",
              "      <td>[[[255, 255, 255], [255, 255, 255], [255, 255,...</td>\n",
              "      <td>[[[255, 255, 255], [255, 255, 255], [255, 255,...</td>\n",
              "    </tr>\n",
              "    <tr>\n",
              "      <th>(Oriya, character06)</th>\n",
              "      <td>[[[255, 255, 255], [255, 255, 255], [255, 255,...</td>\n",
              "      <td>[[[255, 255, 255], [255, 255, 255], [255, 255,...</td>\n",
              "      <td>[[[255, 255, 255], [255, 255, 255], [255, 255,...</td>\n",
              "      <td>[[[255, 255, 255], [255, 255, 255], [255, 255,...</td>\n",
              "      <td>[[[255, 255, 255], [255, 255, 255], [255, 255,...</td>\n",
              "      <td>[[[255, 255, 255], [255, 255, 255], [255, 255,...</td>\n",
              "      <td>[[[255, 255, 255], [255, 255, 255], [255, 255,...</td>\n",
              "      <td>[[[255, 255, 255], [255, 255, 255], [255, 255,...</td>\n",
              "      <td>[[[255, 255, 255], [255, 255, 255], [255, 255,...</td>\n",
              "      <td>[[[255, 255, 255], [255, 255, 255], [255, 255,...</td>\n",
              "      <td>[[[255, 255, 255], [255, 255, 255], [255, 255,...</td>\n",
              "      <td>[[[255, 255, 255], [255, 255, 255], [255, 255,...</td>\n",
              "      <td>[[[255, 255, 255], [255, 255, 255], [255, 255,...</td>\n",
              "      <td>[[[255, 255, 255], [255, 255, 255], [255, 255,...</td>\n",
              "      <td>[[[255, 255, 255], [255, 255, 255], [255, 255,...</td>\n",
              "      <td>[[[255, 255, 255], [255, 255, 255], [255, 255,...</td>\n",
              "      <td>[[[255, 255, 255], [255, 255, 255], [255, 255,...</td>\n",
              "      <td>[[[255, 255, 255], [255, 255, 255], [255, 255,...</td>\n",
              "      <td>[[[255, 255, 255], [255, 255, 255], [255, 255,...</td>\n",
              "      <td>[[[255, 255, 255], [255, 255, 255], [255, 255,...</td>\n",
              "    </tr>\n",
              "    <tr>\n",
              "      <th>(Oriya, character17)</th>\n",
              "      <td>[[[255, 255, 255], [255, 255, 255], [255, 255,...</td>\n",
              "      <td>[[[255, 255, 255], [255, 255, 255], [255, 255,...</td>\n",
              "      <td>[[[255, 255, 255], [255, 255, 255], [255, 255,...</td>\n",
              "      <td>[[[255, 255, 255], [255, 255, 255], [255, 255,...</td>\n",
              "      <td>[[[255, 255, 255], [255, 255, 255], [255, 255,...</td>\n",
              "      <td>[[[255, 255, 255], [255, 255, 255], [255, 255,...</td>\n",
              "      <td>[[[255, 255, 255], [255, 255, 255], [255, 255,...</td>\n",
              "      <td>[[[255, 255, 255], [255, 255, 255], [255, 255,...</td>\n",
              "      <td>[[[255, 255, 255], [255, 255, 255], [255, 255,...</td>\n",
              "      <td>[[[255, 255, 255], [255, 255, 255], [255, 255,...</td>\n",
              "      <td>[[[255, 255, 255], [255, 255, 255], [255, 255,...</td>\n",
              "      <td>[[[255, 255, 255], [255, 255, 255], [255, 255,...</td>\n",
              "      <td>[[[255, 255, 255], [255, 255, 255], [255, 255,...</td>\n",
              "      <td>[[[255, 255, 255], [255, 255, 255], [255, 255,...</td>\n",
              "      <td>[[[255, 255, 255], [255, 255, 255], [255, 255,...</td>\n",
              "      <td>[[[255, 255, 255], [255, 255, 255], [255, 255,...</td>\n",
              "      <td>[[[255, 255, 255], [255, 255, 255], [255, 255,...</td>\n",
              "      <td>[[[255, 255, 255], [255, 255, 255], [255, 255,...</td>\n",
              "      <td>[[[255, 255, 255], [255, 255, 255], [255, 255,...</td>\n",
              "      <td>[[[255, 255, 255], [255, 255, 255], [255, 255,...</td>\n",
              "    </tr>\n",
              "    <tr>\n",
              "      <th>(Oriya, character02)</th>\n",
              "      <td>[[[255, 255, 255], [255, 255, 255], [255, 255,...</td>\n",
              "      <td>[[[255, 255, 255], [255, 255, 255], [255, 255,...</td>\n",
              "      <td>[[[255, 255, 255], [255, 255, 255], [255, 255,...</td>\n",
              "      <td>[[[255, 255, 255], [255, 255, 255], [255, 255,...</td>\n",
              "      <td>[[[255, 255, 255], [255, 255, 255], [255, 255,...</td>\n",
              "      <td>[[[255, 255, 255], [255, 255, 255], [255, 255,...</td>\n",
              "      <td>[[[255, 255, 255], [255, 255, 255], [255, 255,...</td>\n",
              "      <td>[[[255, 255, 255], [255, 255, 255], [255, 255,...</td>\n",
              "      <td>[[[255, 255, 255], [255, 255, 255], [255, 255,...</td>\n",
              "      <td>[[[255, 255, 255], [255, 255, 255], [255, 255,...</td>\n",
              "      <td>[[[255, 255, 255], [255, 255, 255], [255, 255,...</td>\n",
              "      <td>[[[255, 255, 255], [255, 255, 255], [255, 255,...</td>\n",
              "      <td>[[[255, 255, 255], [255, 255, 255], [255, 255,...</td>\n",
              "      <td>[[[255, 255, 255], [255, 255, 255], [255, 255,...</td>\n",
              "      <td>[[[255, 255, 255], [255, 255, 255], [255, 255,...</td>\n",
              "      <td>[[[255, 255, 255], [255, 255, 255], [255, 255,...</td>\n",
              "      <td>[[[255, 255, 255], [255, 255, 255], [255, 255,...</td>\n",
              "      <td>[[[255, 255, 255], [255, 255, 255], [255, 255,...</td>\n",
              "      <td>[[[255, 255, 255], [255, 255, 255], [255, 255,...</td>\n",
              "      <td>[[[255, 255, 255], [255, 255, 255], [255, 255,...</td>\n",
              "    </tr>\n",
              "    <tr>\n",
              "      <th>(Oriya, character13)</th>\n",
              "      <td>[[[255, 255, 255], [255, 255, 255], [255, 255,...</td>\n",
              "      <td>[[[255, 255, 255], [255, 255, 255], [255, 255,...</td>\n",
              "      <td>[[[255, 255, 255], [255, 255, 255], [255, 255,...</td>\n",
              "      <td>[[[255, 255, 255], [255, 255, 255], [255, 255,...</td>\n",
              "      <td>[[[255, 255, 255], [255, 255, 255], [255, 255,...</td>\n",
              "      <td>[[[255, 255, 255], [255, 255, 255], [255, 255,...</td>\n",
              "      <td>[[[255, 255, 255], [255, 255, 255], [255, 255,...</td>\n",
              "      <td>[[[255, 255, 255], [255, 255, 255], [255, 255,...</td>\n",
              "      <td>[[[255, 255, 255], [255, 255, 255], [255, 255,...</td>\n",
              "      <td>[[[255, 255, 255], [255, 255, 255], [255, 255,...</td>\n",
              "      <td>[[[255, 255, 255], [255, 255, 255], [255, 255,...</td>\n",
              "      <td>[[[255, 255, 255], [255, 255, 255], [255, 255,...</td>\n",
              "      <td>[[[255, 255, 255], [255, 255, 255], [255, 255,...</td>\n",
              "      <td>[[[255, 255, 255], [255, 255, 255], [255, 255,...</td>\n",
              "      <td>[[[255, 255, 255], [255, 255, 255], [255, 255,...</td>\n",
              "      <td>[[[255, 255, 255], [255, 255, 255], [255, 255,...</td>\n",
              "      <td>[[[255, 255, 255], [255, 255, 255], [255, 255,...</td>\n",
              "      <td>[[[255, 255, 255], [255, 255, 255], [255, 255,...</td>\n",
              "      <td>[[[255, 255, 255], [255, 255, 255], [255, 255,...</td>\n",
              "      <td>[[[255, 255, 255], [255, 255, 255], [255, 255,...</td>\n",
              "    </tr>\n",
              "  </tbody>\n",
              "</table>\n",
              "<p>659 rows × 20 columns</p>\n",
              "</div>"
            ],
            "text/plain": [
              "                                                                        0  ...                                                 19\n",
              "(Kannada, character38)  [[[255, 255, 255], [255, 255, 255], [255, 255,...  ...  [[[255, 255, 255], [255, 255, 255], [255, 255,...\n",
              "(Kannada, character35)  [[[255, 255, 255], [255, 255, 255], [255, 255,...  ...  [[[255, 255, 255], [255, 255, 255], [255, 255,...\n",
              "(Kannada, character16)  [[[255, 255, 255], [255, 255, 255], [255, 255,...  ...  [[[255, 255, 255], [255, 255, 255], [255, 255,...\n",
              "(Kannada, character03)  [[[255, 255, 255], [255, 255, 255], [255, 255,...  ...  [[[255, 255, 255], [255, 255, 255], [255, 255,...\n",
              "(Kannada, character22)  [[[255, 255, 255], [255, 255, 255], [255, 255,...  ...  [[[255, 255, 255], [255, 255, 255], [255, 255,...\n",
              "...                                                                   ...  ...                                                ...\n",
              "(Oriya, character20)    [[[255, 255, 255], [255, 255, 255], [255, 255,...  ...  [[[255, 255, 255], [255, 255, 255], [255, 255,...\n",
              "(Oriya, character06)    [[[255, 255, 255], [255, 255, 255], [255, 255,...  ...  [[[255, 255, 255], [255, 255, 255], [255, 255,...\n",
              "(Oriya, character17)    [[[255, 255, 255], [255, 255, 255], [255, 255,...  ...  [[[255, 255, 255], [255, 255, 255], [255, 255,...\n",
              "(Oriya, character02)    [[[255, 255, 255], [255, 255, 255], [255, 255,...  ...  [[[255, 255, 255], [255, 255, 255], [255, 255,...\n",
              "(Oriya, character13)    [[[255, 255, 255], [255, 255, 255], [255, 255,...  ...  [[[255, 255, 255], [255, 255, 255], [255, 255,...\n",
              "\n",
              "[659 rows x 20 columns]"
            ]
          },
          "metadata": {
            "tags": []
          },
          "execution_count": 7
        }
      ]
    },
    {
      "cell_type": "markdown",
      "metadata": {
        "id": "6r_S4cxTe4-x",
        "colab_type": "text"
      },
      "source": [
        "**Siamese Network**  \n",
        "This is the architecture we use for our one-shot classification. It takes an input of two sets of images and finds the similarity of each pair and finds the twins.\n",
        "This is done by passing it through 4 layer CNN which return 4096 features for each image, we then find the difference between features of each image and use activation function to signal the similarity if the images.\n",
        "\n"
      ]
    },
    {
      "cell_type": "code",
      "metadata": {
        "id": "jdt7CWTYXuFI",
        "colab_type": "code",
        "colab": {}
      },
      "source": [
        "def siamese_net():\n",
        "    \n",
        "    \"\"\"\n",
        "    Define the architecture of the model which is convolution neural network with 64 10x10 filters,\n",
        "    relu -> max pool -> convolution with 128 7x7 filters, relu -> max pool -> convolution with 128 4x4 filters,\n",
        "    relu -> max pool -> convolution with 256 4x4 filters.\n",
        "    \"\"\"\n",
        "    \n",
        "    def initialize_weights(shape, dtype=None ,name=None):\n",
        "        \"\"\"\n",
        "        The paper, http://www.cs.utoronto.ca/~gkoch/files/msc-thesis.pdf\n",
        "        suggests to initialize CNN layer weights with mean as 0.0 and standard deviation of 0.01\n",
        "        \"\"\"\n",
        "        return np.random.normal(loc = 0.0, scale = 1e-2, size = shape)\n",
        "\n",
        "    def initialize_bias(shape, dtype=None, name=None):\n",
        "        \"\"\"\n",
        "        The paper, http://www.cs.utoronto.ca/~gkoch/files/msc-thesis.pdf\n",
        "        suggests to initialize CNN layer bias with mean as 0.5 and standard deviation of 0.01\n",
        "        \"\"\"\n",
        "        return np.random.normal(loc = 0.5, scale = 1e-2, size = shape)\n",
        "\n",
        "    #Define Imput shape \n",
        "    input_shape=(105,105,3)\n",
        "    left_input=Input(input_shape)\n",
        "    right_input=Input(input_shape)\n",
        "\n",
        "    \"\"\"\n",
        "    Creating a 4 layer model \n",
        "    \"\"\"\n",
        "    model=Sequential()\n",
        "    model.add(Conv2D(filters=64,kernel_size=(10,10),activation='relu',\n",
        "                 input_shape=input_shape,kernel_initializer=initialize_weights,kernel_regularizer=l2(2e-4)))\n",
        "    model.add(MaxPooling2D())\n",
        "\n",
        "    model.add(Conv2D(128,(7,7),activation='relu',kernel_initializer=initialize_weights,\n",
        "                 bias_initializer=initialize_bias,kernel_regularizer=l2(2e-4)))\n",
        "    model.add(MaxPooling2D())\n",
        "\n",
        "    model.add(Conv2D(128,(4,4),activation='relu',kernel_initializer=initialize_weights,\n",
        "                 bias_initializer=initialize_bias,kernel_regularizer=l2(2e-4)))\n",
        "    model.add(MaxPooling2D())\n",
        "\n",
        "    model.add(Conv2D(256,(4,4),activation='relu',kernel_initializer=initialize_weights,\n",
        "                 bias_initializer=initialize_bias,kernel_regularizer=l2(2e-4)))\n",
        "    model.add(Flatten())\n",
        "\n",
        "    model.add(Dense(4096,activation='sigmoid',kernel_regularizer=l2(1e-3),kernel_initializer=initialize_weights,\n",
        "         bias_initializer=initialize_bias))\n",
        "\n",
        "    encode_l=model(left_input)\n",
        "    encode_r=model(right_input)\n",
        "\n",
        "    l1_layer=Lambda(lambda tensors:K.abs(tensors[0]-tensors[1]))\n",
        "    l1_distance=l1_layer([encode_l,encode_r])\n",
        "\n",
        "    # Add a dense layer with a sigmoid unit to generate the similarity score\n",
        "    prediction = Dense(1,activation='sigmoid',bias_initializer=initialize_bias)(l1_distance)\n",
        "    \n",
        "    # Connect the inputs with the outputs\n",
        "    siamese_net = Model(inputs=[left_input,right_input],outputs=prediction)\n",
        "\n",
        "    print(siamese_net.summary())\n",
        "    return siamese_net"
      ],
      "execution_count": 0,
      "outputs": []
    },
    {
      "cell_type": "code",
      "metadata": {
        "id": "S-RJVM_RXuFL",
        "colab_type": "code",
        "outputId": "48fc01a6-c1a9-4320-9a9a-f238520c2e33",
        "colab": {
          "base_uri": "https://localhost:8080/",
          "height": 374
        }
      },
      "source": [
        "#Create and complie model\n",
        "model=siamese_net()\n",
        "optimizer = Adam(lr = 0.00006)\n",
        "model.compile(loss=\"binary_crossentropy\",optimizer=optimizer)"
      ],
      "execution_count": 19,
      "outputs": [
        {
          "output_type": "stream",
          "text": [
            "Model: \"model_2\"\n",
            "__________________________________________________________________________________________________\n",
            "Layer (type)                    Output Shape         Param #     Connected to                     \n",
            "==================================================================================================\n",
            "input_3 (InputLayer)            (None, 105, 105, 3)  0                                            \n",
            "__________________________________________________________________________________________________\n",
            "input_4 (InputLayer)            (None, 105, 105, 3)  0                                            \n",
            "__________________________________________________________________________________________________\n",
            "sequential_2 (Sequential)       (None, 4096)         38960448    input_3[0][0]                    \n",
            "                                                                 input_4[0][0]                    \n",
            "__________________________________________________________________________________________________\n",
            "lambda_2 (Lambda)               (None, 4096)         0           sequential_2[1][0]               \n",
            "                                                                 sequential_2[2][0]               \n",
            "__________________________________________________________________________________________________\n",
            "dense_4 (Dense)                 (None, 1)            4097        lambda_2[0][0]                   \n",
            "==================================================================================================\n",
            "Total params: 38,964,545\n",
            "Trainable params: 38,964,545\n",
            "Non-trainable params: 0\n",
            "__________________________________________________________________________________________________\n",
            "None\n"
          ],
          "name": "stdout"
        }
      ]
    },
    {
      "cell_type": "markdown",
      "metadata": {
        "id": "p0SUPKuAFZxZ",
        "colab_type": "text"
      },
      "source": [
        "**Training**"
      ]
    },
    {
      "cell_type": "code",
      "metadata": {
        "id": "dyTld0fZ8ugr",
        "colab_type": "code",
        "colab": {}
      },
      "source": [
        "# Hyper parameters\n",
        "evaluate_every =200 # interval for evaluating on one-shot tasks\n",
        "batch_size = 32 #batch size to train data on\n",
        "n_iter = 2000 # No. of training iterations"
      ],
      "execution_count": 0,
      "outputs": []
    },
    {
      "cell_type": "code",
      "metadata": {
        "id": "HWDGIV1kXuFX",
        "colab_type": "code",
        "colab": {}
      },
      "source": [
        "def get_batch(x):\n",
        "  \"\"\"\n",
        "  Create batch to train the model\n",
        "  We create 32 pair of images the first 16 are images with same class and for next\n",
        "  half we ensure that that the pairs are not from the same category.\n",
        "  \"\"\"\n",
        "  n_classes, n_examples= x.shape\n",
        "  w, h =105,105\n",
        "  categories=np.random.choice(n_classes,size=(batch_size,),replace=False)\n",
        "\n",
        "  # initialize 2 empty arrays for the input image batch\n",
        "  pairs=[np.zeros((batch_size, h, w,3)) for i in range(2)]\n",
        "    \n",
        "  # initialize vector for the targets\n",
        "  targets=np.zeros((batch_size,))\n",
        "\n",
        "  targets[batch_size//2:]=1\n",
        "  for i in range(batch_size):\n",
        "      category=categories[i]\n",
        "      idx_1=np.random.randint(0,n_examples)\n",
        "      pairs[0][i,:,:,:] = x.iat[category, idx_1]\n",
        "      idx_2 = np.random.randint(0, n_examples)\n",
        "      if i >= batch_size // 2:\n",
        "              category_2 = category  \n",
        "      else: \n",
        "          # add a random number to the category modulo n classes to ensure 2nd image has a different category\n",
        "          category_2 = (category + np.random.randint(1,n_classes)) % n_classes\n",
        "      pairs[1][i,:,:,:] = x.iat[category_2,idx_2]\n",
        "    \n",
        "  return pairs,targets\n",
        "    "
      ],
      "execution_count": 0,
      "outputs": []
    },
    {
      "cell_type": "code",
      "metadata": {
        "id": "ErZrC8QfXuFZ",
        "colab_type": "code",
        "outputId": "89c8e850-1782-4924-d29d-47c89559b45c",
        "colab": {
          "base_uri": "https://localhost:8080/",
          "height": 714
        }
      },
      "source": [
        "print(\"Starting training process!\")\n",
        "l=[]\n",
        "for i in range(1, n_iter+1):\n",
        "    inputs,targets = get_batch(x_train)\n",
        "    loss = model.train_on_batch(inputs,targets)\n",
        "    l.append(loss)\n",
        "    if i % evaluate_every == 0:\n",
        "        print(\"\\n ------------- \\n\")\n",
        "        print(\"Train Loss: {0}\".format(loss))"
      ],
      "execution_count": 22,
      "outputs": [
        {
          "output_type": "stream",
          "text": [
            "Starting training process!\n",
            "\n",
            " ------------- \n",
            "\n",
            "Train Loss: 2.3495733737945557\n",
            "\n",
            " ------------- \n",
            "\n",
            "Train Loss: 1.7542649507522583\n",
            "\n",
            " ------------- \n",
            "\n",
            "Train Loss: 1.4156267642974854\n",
            "\n",
            " ------------- \n",
            "\n",
            "Train Loss: 1.1413341760635376\n",
            "\n",
            " ------------- \n",
            "\n",
            "Train Loss: 1.0137253999710083\n",
            "\n",
            " ------------- \n",
            "\n",
            "Train Loss: 1.0075879096984863\n",
            "\n",
            " ------------- \n",
            "\n",
            "Train Loss: 0.8550300002098083\n",
            "\n",
            " ------------- \n",
            "\n",
            "Train Loss: 0.908806324005127\n",
            "\n",
            " ------------- \n",
            "\n",
            "Train Loss: 0.6087885499000549\n",
            "\n",
            " ------------- \n",
            "\n",
            "Train Loss: 0.7647333145141602\n"
          ],
          "name": "stdout"
        }
      ]
    },
    {
      "cell_type": "code",
      "metadata": {
        "id": "sfVLeTqAsuKL",
        "colab_type": "code",
        "colab": {
          "base_uri": "https://localhost:8080/",
          "height": 312
        },
        "outputId": "f2a2329a-20cd-4249-b84b-ad9774f49ee7"
      },
      "source": [
        "plt.title('Training Loss')\n",
        "plt.xlabel('Epochs')\n",
        "plt.plot(l)"
      ],
      "execution_count": 23,
      "outputs": [
        {
          "output_type": "execute_result",
          "data": {
            "text/plain": [
              "[<matplotlib.lines.Line2D at 0x7f9a8086a588>]"
            ]
          },
          "metadata": {
            "tags": []
          },
          "execution_count": 23
        },
        {
          "output_type": "display_data",
          "data": {
            "image/png": "[encoded data removed]",
            "text/plain": [
              "<Figure size 432x288 with 1 Axes>"
            ]
          },
          "metadata": {
            "tags": []
          }
        }
      ]
    },
    {
      "cell_type": "markdown",
      "metadata": {
        "id": "cfLBnMZ-gguG",
        "colab_type": "text"
      },
      "source": [
        "As seen loss has decreased for each epoch, now we can move on to test our model."
      ]
    },
    {
      "cell_type": "markdown",
      "metadata": {
        "id": "e1UJRanNnUj2",
        "colab_type": "text"
      },
      "source": [
        "**Testing**"
      ]
    },
    {
      "cell_type": "code",
      "metadata": {
        "id": "Ou5_tIjMXuFc",
        "colab_type": "code",
        "colab": {}
      },
      "source": [
        "def make_test_batch(N):\n",
        "    \"\"\"\n",
        "    Create test batch\n",
        "    We create a pair of an image set first part containing the test_image(the image for which similarity is checked)\n",
        "    second part contains set of N images. We use shuffle so that the first image in support-set is not always from the same classs\n",
        "    \"\"\"\n",
        "    n_classes, n_examples= x_val.shape\n",
        "    w, h =105,105\n",
        "    categories=languages_val\n",
        "\n",
        "\n",
        "    indices=m=np.random.randint(0,n_examples,size=(N,))#choose random images to be selected\n",
        "    categories=np.random.randint(n_classes,size=(N,))\n",
        "    test_image=np.zeros((1,w,h,3))#placehoder for test image\n",
        "\n",
        "    targets=np.zeros((N,))\n",
        "    support_set=[]\n",
        "    targets[0] = 1\n",
        "    true_category = categories[0]\n",
        "    ex1, ex2 = np.random.choice(n_examples,replace=False,size=(2,))\n",
        "    test_image[0] = np.asarray(x_val.iat[true_category,ex1])\n",
        "    for c,i in zip(categories,indices):\n",
        "        support_set.append(x_val.iat[c,i])\n",
        "    support_set[0] = x_val.iat[true_category,ex2]\n",
        "    support_set=np.array(support_set)\n",
        "    targets,support_set = shuffle(targets,support_set)#shuffle the images \n",
        "    pairs = [test_image,support_set]\n",
        "    return pairs,targets"
      ],
      "execution_count": 0,
      "outputs": []
    },
    {
      "cell_type": "code",
      "metadata": {
        "id": "JNL3axTTXuFe",
        "colab_type": "code",
        "colab": {}
      },
      "source": [
        "def testing(k,N):\n",
        "  \"\"\"\n",
        "  Used to test model for k times on N-batch size data\n",
        "  \"\"\"\n",
        "  n_correct=0\n",
        "  for i in range(k):\n",
        "      inputs_t, targets_t = make_test_batch(N)\n",
        "      probs = model.predict_on_batch(inputs_t)\n",
        "      if np.argmax(probs) == np.argmax(targets_t):\n",
        "          n_correct+=1\n",
        "  ImageLoader(inputs_t)#showcase last batch images for example\n",
        "  percent_correct = (100.0 * n_correct / k)\n",
        "  print(\"Got an average of \"+str(percent_correct)+\"% for \"+str(N)+\" way one-shot learning accuracy \\n\")\n",
        "  # return percent_correct\n"
      ],
      "execution_count": 0,
      "outputs": []
    },
    {
      "cell_type": "code",
      "metadata": {
        "id": "eiPCNzDKkSSs",
        "colab_type": "code",
        "colab": {}
      },
      "source": [
        "def ImageLoader(imlist):\n",
        "  \"\"\"\n",
        "  The images are loaded and displayed showcasing the test-image \n",
        "  and the support-set of images to which it is compared to.\n",
        "  \"\"\"\n",
        "  plt.subplots()\n",
        "  plt.title(\"Test Image\")\n",
        "  plt.imshow(imlist[0][0])\n",
        "  plt.subplots()\n",
        "  img=concat_images(imlist[1])\n",
        "  plt.title(\"Support-set image\")\n",
        "  plt.imshow(img)\n",
        "  plt.show()"
      ],
      "execution_count": 0,
      "outputs": []
    },
    {
      "cell_type": "code",
      "metadata": {
        "id": "G9ddtS4aFuYN",
        "colab_type": "code",
        "colab": {}
      },
      "source": [
        "def concat_images(X):\n",
        "    \"\"\"\n",
        "    Concatenates a bunch of images into a big matrix since mutiple images cant be plotted together.\n",
        "    \"\"\"\n",
        "    nc, h , w, _ = X.shape\n",
        "    n = np.ceil(np.sqrt(nc)).astype(\"int8\")\n",
        "    img = np.zeros((n*w,n*h,3))\n",
        "    x = 0\n",
        "    y = 0\n",
        "    for example in range(nc):\n",
        "        img[x*w:(x+1)*w,y*h:(y+1)*h] = X[example]\n",
        "        y += 1\n",
        "        if y >= n:\n",
        "            y = 0\n",
        "            x += 1\n",
        "    return img\n"
      ],
      "execution_count": 0,
      "outputs": []
    },
    {
      "cell_type": "code",
      "metadata": {
        "id": "4WHMoPfhznx4",
        "colab_type": "code",
        "outputId": "e06f7f22-e721-4452-9b8e-9b5a2024b675",
        "colab": {
          "base_uri": "https://localhost:8080/",
          "height": 1000
        }
      },
      "source": [
        "\"\"\"\n",
        "The main cell the testing fuction is called for diifrent N-way One-shot classification \n",
        "\"\"\"\n",
        "N_way=[9,16,25]\n",
        "for i in N_way:\n",
        "  testing(20,i)"
      ],
      "execution_count": 30,
      "outputs": [
        {
          "output_type": "stream",
          "text": [
            "Clipping input data to the valid range for imshow with RGB data ([0..1] for floats or [0..255] for integers).\n",
            "Clipping input data to the valid range for imshow with RGB data ([0..1] for floats or [0..255] for integers).\n"
          ],
          "name": "stderr"
        },
        {
          "output_type": "display_data",
          "data": {
            "image/png": "[encoded data removed]",
            "text/plain": [
              "<Figure size 432x288 with 1 Axes>"
            ]
          },
          "metadata": {
            "tags": []
          }
        },
        {
          "output_type": "display_data",
          "data": {
            "image/png": "[encoded data removed]",
            "text/plain": [
              "<Figure size 432x288 with 1 Axes>"
            ]
          },
          "metadata": {
            "tags": []
          }
        },
        {
          "output_type": "stream",
          "text": [
            "Got an average of 95.0% for 9 way one-shot learning accuracy \n",
            "\n"
          ],
          "name": "stdout"
        },
        {
          "output_type": "stream",
          "text": [
            "Clipping input data to the valid range for imshow with RGB data ([0..1] for floats or [0..255] for integers).\n",
            "Clipping input data to the valid range for imshow with RGB data ([0..1] for floats or [0..255] for integers).\n"
          ],
          "name": "stderr"
        },
        {
          "output_type": "display_data",
          "data": {
            "image/png": "[encoded data removed]",
            "text/plain": [
              "<Figure size 432x288 with 1 Axes>"
            ]
          },
          "metadata": {
            "tags": []
          }
        },
        {
          "output_type": "display_data",
          "data": {
            "image/png": "[encoded data removed]",
            "text/plain": [
              "<Figure size 432x288 with 1 Axes>"
            ]
          },
          "metadata": {
            "tags": []
          }
        },
        {
          "output_type": "stream",
          "text": [
            "Got an average of 55.0% for 16 way one-shot learning accuracy \n",
            "\n"
          ],
          "name": "stdout"
        },
        {
          "output_type": "stream",
          "text": [
            "Clipping input data to the valid range for imshow with RGB data ([0..1] for floats or [0..255] for integers).\n",
            "Clipping input data to the valid range for imshow with RGB data ([0..1] for floats or [0..255] for integers).\n"
          ],
          "name": "stderr"
        },
        {
          "output_type": "display_data",
          "data": {
            "image/png": "[encoded data removed]",
            "text/plain": [
              "<Figure size 432x288 with 1 Axes>"
            ]
          },
          "metadata": {
            "tags": []
          }
        },
        {
          "output_type": "display_data",
          "data": {
            "image/png": "[encoded data removed]",
            "text/plain": [
              "<Figure size 432x288 with 1 Axes>"
            ]
          },
          "metadata": {
            "tags": []
          }
        },
        {
          "output_type": "stream",
          "text": [
            "Got an average of 75.0% for 25 way one-shot learning accuracy \n",
            "\n"
          ],
          "name": "stdout"
        }
      ]
    },
    {
      "cell_type": "markdown",
      "metadata": {
        "id": "31uXAsYDFAdc",
        "colab_type": "text"
      },
      "source": [
        "**Conclusions**  \n",
        "The Hyperparameters can te tuned more to get better results and avoid over-fitting.\n",
        "Future work should also use stroke data for better classification and handwriting recognition."
      ]
    },
    {
      "cell_type": "markdown",
      "metadata": {
        "id": "zygF3eolCxWU",
        "colab_type": "text"
      },
      "source": [
        "**Stroke Data**"
      ]
    },
    {
      "cell_type": "code",
      "metadata": {
        "id": "8x7aX6FVXuFN",
        "colab_type": "code",
        "colab": {}
      },
      "source": [
        "def get_stroke(fp):\n",
        "\n",
        "  \"\"\"\n",
        "  Opens the stroke data file and add stroke data, each start and break shows the start and end of a motor(i.e 1 movement of hand). \n",
        "  Multiple strokes make 1 motor and it is sent back to be stored in DataFrame.\n",
        "  \"\"\"\n",
        "  with open(fp,'r') as f:\n",
        "        stroke_data=f.readlines()\n",
        "        stroke_data=[l.strip() for l in stroke_data]\n",
        "        motor=[]\n",
        "        for line in stroke_data:\n",
        "            if line==\"START\":\n",
        "                stk=[]\n",
        "            elif line==\"BREAK\":\n",
        "                stk = np.array(stk)\n",
        "                motor.append(stk) # add to list of strokes\n",
        "                stk = [] \n",
        "            else:\n",
        "                arr = np.fromstring(line,dtype=float,sep=',')\n",
        "                stk.append(arr)\n",
        "  return motor"
      ],
      "execution_count": 0,
      "outputs": []
    },
    {
      "cell_type": "code",
      "metadata": {
        "id": "HdI7A7gOXuFS",
        "colab_type": "code",
        "colab": {}
      },
      "source": [
        "def get_stroke_data(folder):\n",
        "    \"\"\"\n",
        "    Function to get stroke data and returns a dataframe in accordance to language and character \n",
        "    \"\"\"\n",
        "    lang_list=[]\n",
        "    SX={}\n",
        "    for languages in os.listdir(folder):\n",
        "        if languages.startswith('.'):\n",
        "            continue\n",
        "        else:\n",
        "            strokes={}\n",
        "            lang_list.append(languages)\n",
        "            for alphabets in os.listdir(folder+languages):\n",
        "                if alphabets.startswith('.'):\n",
        "                    continue\n",
        "                else:\n",
        "                    stk=[]\n",
        "                    for character in os.listdir(folder+languages+\"/\"+alphabets):\n",
        "                        if(character.startswith('.')):\n",
        "                            continue\n",
        "                        else:\n",
        "                            stk_data=get_stroke(folder+languages+\"/\"+alphabets+\"/\"+character)\n",
        "                            stk.append(stk_data)\n",
        "                    strokes[alphabets]=stk\n",
        "            \n",
        "        SX[languages]=strokes\n",
        "    \n",
        "    sx=pd.DataFrame.from_dict({(i,j): SX[i][j] \n",
        "                           for i in SX.keys() \n",
        "                           for j in SX[i].keys()},orient='index')\n",
        "    return sx"
      ],
      "execution_count": 0,
      "outputs": []
    },
    {
      "cell_type": "code",
      "metadata": {
        "id": "CjLuFzPqXuFQ",
        "colab_type": "code",
        "colab": {}
      },
      "source": [
        "def draw_stroke(motor):\n",
        "  \"\"\"\n",
        "  Draw the each alphabet\n",
        "  \"\"\"\n",
        "  drawing=[d[:,0:2]for d in motor]\n",
        "  for i in drawing:\n",
        "      plt.plot(i[:,0],i[:,1])"
      ],
      "execution_count": 0,
      "outputs": []
    },
    {
      "cell_type": "code",
      "metadata": {
        "id": "vb58BdckXuFV",
        "colab_type": "code",
        "outputId": "6ff5ea2a-bbbb-4786-bf76-613d2d40c27a",
        "colab": {
          "base_uri": "https://localhost:8080/",
          "height": 51
        }
      },
      "source": [
        "print(\"Getting stroke train data\")\n",
        "stroke_train=get_stroke_data('Fellowship/strokes_background/')\n",
        "print(\"Getting stroke validation data\")\n",
        "stroke_test=get_stroke_data('Fellowship/strokes_evaluation/')"
      ],
      "execution_count": 39,
      "outputs": [
        {
          "output_type": "stream",
          "text": [
            "Getting stroke train data\n",
            "Getting stroke validation data\n"
          ],
          "name": "stdout"
        }
      ]
    },
    {
      "cell_type": "code",
      "metadata": {
        "id": "pMwa6g9f3fHo",
        "colab_type": "code",
        "colab": {
          "base_uri": "https://localhost:8080/",
          "height": 533
        },
        "outputId": "02762acb-1b16-441f-cc3c-7d27b3e8c5f5"
      },
      "source": [
        "#Example showcasing the how stroke data is stored\n",
        "draw_stroke(stroke_train.iloc[137,1])\n",
        "plt.show()\n",
        "plt.subplots()\n",
        "plt.imshow(x_train.iloc[137,1])"
      ],
      "execution_count": 40,
      "outputs": [
        {
          "output_type": "display_data",
          "data": {
            "image/png": "[encoded data removed]",
            "text/plain": [
              "<Figure size 432x288 with 1 Axes>"
            ]
          },
          "metadata": {
            "tags": []
          }
        },
        {
          "output_type": "execute_result",
          "data": {
            "text/plain": [
              "<matplotlib.image.AxesImage at 0x7f9a8034ea90>"
            ]
          },
          "metadata": {
            "tags": []
          },
          "execution_count": 40
        },
        {
          "output_type": "display_data",
          "data": {
            "image/png": "[encoded data removed]",
            "text/plain": [
              "<Figure size 432x288 with 1 Axes>"
            ]
          },
          "metadata": {
            "tags": []
          }
        }
      ]
    },
    {
      "cell_type": "code",
      "metadata": {
        "id": "NEYreoK_U-Su",
        "colab_type": "code",
        "colab": {
          "base_uri": "https://localhost:8080/",
          "height": 34
        },
        "outputId": "2eb9532a-4dcf-4114-dd15-f4a61787844e"
      },
      "source": [
        "from google.colab import drive\n",
        "drive.mount('/content/drive')"
      ],
      "execution_count": 14,
      "outputs": [
        {
          "output_type": "stream",
          "text": [
            "Mounted at /content/drive\n"
          ],
          "name": "stdout"
        }
      ]
    },
    {
      "cell_type": "code",
      "metadata": {
        "id": "bzcrN6Xq3pb8",
        "colab_type": "code",
        "colab": {}
      },
      "source": [
        "!unzip -uq \"/content/drive/My Drive/Colab Notebooks/Fellowship\""
      ],
      "execution_count": 0,
      "outputs": []
    }
  ]
}